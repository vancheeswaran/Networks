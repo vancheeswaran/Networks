{
 "cells": [
  {
   "cell_type": "markdown",
   "metadata": {},
   "source": [
    "# CRC ERROR CORRECTION"
   ]
  },
  {
   "cell_type": "code",
   "execution_count": null,
   "metadata": {},
   "outputs": [],
   "source": [
    "\n",
    "def xor(a, b): \n",
    "    result = [] \n",
    "    for i in range(1, len(b)): \n",
    "        if a[i] == b[i]: \n",
    "            result.append('0') \n",
    "        else: \n",
    "            result.append('1') \n",
    "\n",
    "    return ''.join(result) \n",
    "\n",
    "def mod2div(divident, divisor): \n",
    "\n",
    "    pick = len(divisor) \n",
    "\n",
    "    tmp = divident[0 : pick] \n",
    "\n",
    "    while pick < len(divident): \n",
    "\n",
    "        if tmp[0] == '1': \n",
    "            \n",
    "            tmp = xor(divisor, tmp) + divident[pick] \n",
    "\n",
    "        else: \n",
    "            tmp = xor('0'*pick, tmp) + divident[pick] \n",
    "\n",
    "        pick += 1\n",
    "\n",
    "    if tmp[0] == '1': \n",
    "        tmp = xor(divisor, tmp) \n",
    "    else: \n",
    "        tmp = xor('0'*pick, tmp) \n",
    "\n",
    "    checkword = tmp \n",
    "    return checkword \n",
    "\n",
    "def encodeData(data, key): \n",
    "\n",
    "    l_key = len(key) \n",
    "\n",
    "    appended_data = data + '0'*(l_key-1) \n",
    "    remainder = mod2div(appended_data, key) \n",
    "\n",
    "    codeword = data + remainder \n",
    "    print(\"Remainder : \", remainder) \n",
    "    print(\"Encoded Data (Data + Remainder) : \",codeword) \n",
    "\n",
    "def decodeData(data, key): \n",
    "   \n",
    "    l_key = len(key) \n",
    "\n",
    "    appended_data = data + '0'*(l_key-1) \n",
    "    remainder = mod2div(appended_data, key) \n",
    "   \n",
    "    return remainder \n",
    "\n",
    "data = input(\"Enter data\")\n",
    "key = input(\"Ente the key / divisor\")\n",
    "encodeData(data, key) \n",
    "recvdata=input(\"Enter recv data\")\n",
    "ans = decodeData(recvdata, key) \n",
    "print(\"Remainder after decoding is->\",ans)\n",
    "\n",
    "temp = \"0\" * (len(key) - 1) \n",
    "if ans == temp: \n",
    "    print(\"Received No error FOUND\") \n",
    "else: \n",
    "    print(\"Error in data\") \n",
    "\n"
   ]
  },
  {
   "cell_type": "markdown",
   "metadata": {},
   "source": [
    "# ENCRYPTION/DECRYPTION"
   ]
  },
  {
   "cell_type": "code",
   "execution_count": null,
   "metadata": {},
   "outputs": [],
   "source": [
    "def encrypt(text,s):\n",
    "    result = \"\"\n",
    "    for i in range(len(text)):\n",
    "        char = text[i]\n",
    "        if (char.isupper()):\n",
    "            result += chr((ord(char) + s-65) % 26 + 65)\n",
    "        else:\n",
    "            result += chr((ord(char) + s - 97) % 26 + 97)\n",
    "    return result\n",
    "\n",
    "text=input(\"enter the text to be decrypted\")\n",
    "\n",
    "s = int(input(\"enter the key\"))\n",
    "\n",
    "print (\"Plain Text : \" + text)\n",
    "print (\"Shift pattern : \" + str(s))\n",
    "print (\"Cipher: \" + encrypt(text,s))"
   ]
  },
  {
   "cell_type": "markdown",
   "metadata": {},
   "source": [
    "# DVR"
   ]
  },
  {
   "cell_type": "code",
   "execution_count": null,
   "metadata": {},
   "outputs": [],
   "source": [
    "#!/usr/bin/env python3\n",
    "import networkx as nx\n",
    "import matplotlib.pyplot as plt\n",
    "\n",
    "G = nx.DiGraph(directed=True)\n",
    "nodes=int(input(\"enter the number of node(s)\"))\n",
    "\n",
    "for i in range(1,nodes+1):\n",
    "    G.add_node(i)\n",
    "    \n",
    "t=int(input(\"enter the number of queries\"))\n",
    "\n",
    "for i in range(t):\n",
    "    a,b,c=map(int,input(\"Node1 Node2 Weight\").split())\n",
    "    G.add_edge(a, b, weight=c)  \n",
    "    \n",
    "source_val,target_val=map(int,input(\"enter source and destination\").split())\n",
    "v=nx.bellman_ford_path_length(G, source=source_val, target=target_val,weight=\"weight\")\n",
    "n=nx.bellman_ford_path(G,source=source_val,target=target_val,weight=\"weight\")\n",
    "print(v,n)\n",
    "\n",
    "nx.draw(G, with_labels=True,show_weight=True)\n",
    "print(\"all possible pairs as source and destination\",list(nx.all_pairs_bellman_ford_path(G,weight=\"weight\")))\n",
    "print(\"all possible pairs as source and destination distance\",list(nx.all_pairs_bellman_ford_path_length(G,weight=\"weight\")))"
   ]
  },
  {
   "cell_type": "markdown",
   "metadata": {},
   "source": [
    "# LSR"
   ]
  },
  {
   "cell_type": "code",
   "execution_count": null,
   "metadata": {},
   "outputs": [],
   "source": [
    "#!/usr/bin/env python3\n",
    "import networkx as nx\n",
    "import matplotlib.pyplot as plt\n",
    "\n",
    "G = nx.DiGraph(directed=True)\n",
    "nodes=int(input(\"enter the number of node(s)\"))\n",
    "\n",
    "for i in range(1,nodes+1):\n",
    "    G.add_node(i)\n",
    "    \n",
    "t=int(input(\"enter the number of queries\"))\n",
    "\n",
    "for i in range(t):\n",
    "    a,b,c=map(int,input(\"Node1 Node2 Weight\").split())\n",
    "    G.add_edge(a, b, weight=c)  \n",
    "    \n",
    "source_val,target_val=map(int,input(\"enter source and destination\").split())\n",
    "nx.draw(G, with_labels=True,show_weight=True)\n",
    "print(\"Shortest path\",list(nx.dijkstra_path(G,source_val,target_val)))\n",
    "print(\"shortest path distance\",(nx.dijkstra_path_length(G,source_val,target_val)))"
   ]
  },
  {
   "cell_type": "markdown",
   "metadata": {},
   "source": [
    "# CHARACTER AND BIT STUFFING"
   ]
  },
  {
   "cell_type": "code",
   "execution_count": null,
   "metadata": {},
   "outputs": [],
   "source": [
    "\"\"\"Character stuffing\"\"\"\n",
    "s=[]\n",
    "n=1\n",
    "while(n!=0):\n",
    "    s.append(input())\n",
    "    n=int(input(\"enter 1 to continue, 0 to terminate\"))\n",
    "for i in s:\n",
    "    print(len(i)+1,i)\n"
   ]
  },
  {
   "cell_type": "code",
   "execution_count": null,
   "metadata": {},
   "outputs": [],
   "source": [
    "\"\"\"Bit stuffing\"\"\"\n",
    "s=input()\n",
    "print(\"01111110\",end=\"\")\n",
    "cntr=0\n",
    "for i in s:\n",
    "    print(i,end=\"\")\n",
    "    if(i==\"1\"):\n",
    "        cntr+=1\n",
    "    else:\n",
    "        cntr=0\n",
    "    if(cntr==5):\n",
    "        print(\"0\",end=\"\")\n",
    "        cntr=0\n",
    "print(\"01111110\")"
   ]
  }
 ],
 "metadata": {
  "kernelspec": {
   "display_name": "Python 3",
   "language": "python",
   "name": "python3"
  },
  "language_info": {
   "codemirror_mode": {
    "name": "ipython",
    "version": 3
   },
   "file_extension": ".py",
   "mimetype": "text/x-python",
   "name": "python",
   "nbconvert_exporter": "python",
   "pygments_lexer": "ipython3",
   "version": "3.7.6"
  }
 },
 "nbformat": 4,
 "nbformat_minor": 2
}
